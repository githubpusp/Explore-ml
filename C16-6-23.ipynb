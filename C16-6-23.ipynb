{
 "cells": [
  {
   "cell_type": "code",
   "execution_count": 1,
   "id": "799d2810",
   "metadata": {},
   "outputs": [],
   "source": [
    "import pandas as pd \n",
    "import numpy as np \n",
    "import seaborn as sn\n",
    "import matplotlib.pyplot as plt\n",
    "from sklearn.metrics import accuracy_score, confusion_matrix, roc_auc_score, roc_curve\n",
    "from sklearn.ensemble import VotingClassifier"
   ]
  },
  {
   "cell_type": "code",
   "execution_count": 2,
   "id": "3b0f76c7",
   "metadata": {},
   "outputs": [],
   "source": [
    "data=pd.read_csv(\"car_price_prediction.csv\")"
   ]
  },
  {
   "cell_type": "code",
   "execution_count": 3,
   "id": "04856ee7",
   "metadata": {},
   "outputs": [
    {
     "data": {
      "text/html": [
       "<div>\n",
       "<style scoped>\n",
       "    .dataframe tbody tr th:only-of-type {\n",
       "        vertical-align: middle;\n",
       "    }\n",
       "\n",
       "    .dataframe tbody tr th {\n",
       "        vertical-align: top;\n",
       "    }\n",
       "\n",
       "    .dataframe thead th {\n",
       "        text-align: right;\n",
       "    }\n",
       "</style>\n",
       "<table border=\"1\" class=\"dataframe\">\n",
       "  <thead>\n",
       "    <tr style=\"text-align: right;\">\n",
       "      <th></th>\n",
       "      <th>ID</th>\n",
       "      <th>Price</th>\n",
       "      <th>Levy</th>\n",
       "      <th>Manufacturer</th>\n",
       "      <th>Model</th>\n",
       "      <th>Prod. year</th>\n",
       "      <th>Category</th>\n",
       "      <th>Leather interior</th>\n",
       "      <th>Fuel type</th>\n",
       "      <th>Engine volume</th>\n",
       "      <th>Mileage</th>\n",
       "      <th>Cylinders</th>\n",
       "      <th>Gear box type</th>\n",
       "      <th>Drive wheels</th>\n",
       "      <th>Doors</th>\n",
       "      <th>Wheel</th>\n",
       "      <th>Color</th>\n",
       "      <th>Airbags</th>\n",
       "    </tr>\n",
       "  </thead>\n",
       "  <tbody>\n",
       "    <tr>\n",
       "      <th>0</th>\n",
       "      <td>45654403</td>\n",
       "      <td>13328</td>\n",
       "      <td>1399</td>\n",
       "      <td>LEXUS</td>\n",
       "      <td>RX 450</td>\n",
       "      <td>2010</td>\n",
       "      <td>Jeep</td>\n",
       "      <td>Yes</td>\n",
       "      <td>Hybrid</td>\n",
       "      <td>3.5</td>\n",
       "      <td>186005 km</td>\n",
       "      <td>6</td>\n",
       "      <td>Automatic</td>\n",
       "      <td>4x4</td>\n",
       "      <td>4-May</td>\n",
       "      <td>Left wheel</td>\n",
       "      <td>Silver</td>\n",
       "      <td>12</td>\n",
       "    </tr>\n",
       "    <tr>\n",
       "      <th>1</th>\n",
       "      <td>44731507</td>\n",
       "      <td>16621</td>\n",
       "      <td>1018</td>\n",
       "      <td>CHEVROLET</td>\n",
       "      <td>Equinox</td>\n",
       "      <td>2011</td>\n",
       "      <td>Jeep</td>\n",
       "      <td>No</td>\n",
       "      <td>Petrol</td>\n",
       "      <td>3</td>\n",
       "      <td>192000 km</td>\n",
       "      <td>6</td>\n",
       "      <td>Tiptronic</td>\n",
       "      <td>4x4</td>\n",
       "      <td>4-May</td>\n",
       "      <td>Left wheel</td>\n",
       "      <td>Black</td>\n",
       "      <td>8</td>\n",
       "    </tr>\n",
       "    <tr>\n",
       "      <th>2</th>\n",
       "      <td>45774419</td>\n",
       "      <td>8467</td>\n",
       "      <td>-</td>\n",
       "      <td>HONDA</td>\n",
       "      <td>FIT</td>\n",
       "      <td>2006</td>\n",
       "      <td>Hatchback</td>\n",
       "      <td>No</td>\n",
       "      <td>Petrol</td>\n",
       "      <td>1.3</td>\n",
       "      <td>200000 km</td>\n",
       "      <td>4</td>\n",
       "      <td>Variator</td>\n",
       "      <td>Front</td>\n",
       "      <td>4-May</td>\n",
       "      <td>Right-hand drive</td>\n",
       "      <td>Black</td>\n",
       "      <td>2</td>\n",
       "    </tr>\n",
       "    <tr>\n",
       "      <th>3</th>\n",
       "      <td>45769185</td>\n",
       "      <td>3607</td>\n",
       "      <td>862</td>\n",
       "      <td>FORD</td>\n",
       "      <td>Escape</td>\n",
       "      <td>2011</td>\n",
       "      <td>Jeep</td>\n",
       "      <td>Yes</td>\n",
       "      <td>Hybrid</td>\n",
       "      <td>2.5</td>\n",
       "      <td>168966 km</td>\n",
       "      <td>4</td>\n",
       "      <td>Automatic</td>\n",
       "      <td>4x4</td>\n",
       "      <td>4-May</td>\n",
       "      <td>Left wheel</td>\n",
       "      <td>White</td>\n",
       "      <td>0</td>\n",
       "    </tr>\n",
       "    <tr>\n",
       "      <th>4</th>\n",
       "      <td>45809263</td>\n",
       "      <td>11726</td>\n",
       "      <td>446</td>\n",
       "      <td>HONDA</td>\n",
       "      <td>FIT</td>\n",
       "      <td>2014</td>\n",
       "      <td>Hatchback</td>\n",
       "      <td>Yes</td>\n",
       "      <td>Petrol</td>\n",
       "      <td>1.3</td>\n",
       "      <td>91901 km</td>\n",
       "      <td>4</td>\n",
       "      <td>Automatic</td>\n",
       "      <td>Front</td>\n",
       "      <td>4-May</td>\n",
       "      <td>Left wheel</td>\n",
       "      <td>Silver</td>\n",
       "      <td>4</td>\n",
       "    </tr>\n",
       "  </tbody>\n",
       "</table>\n",
       "</div>"
      ],
      "text/plain": [
       "         ID  Price  Levy Manufacturer    Model  Prod. year   Category  \\\n",
       "0  45654403  13328  1399        LEXUS   RX 450        2010       Jeep   \n",
       "1  44731507  16621  1018    CHEVROLET  Equinox        2011       Jeep   \n",
       "2  45774419   8467     -        HONDA      FIT        2006  Hatchback   \n",
       "3  45769185   3607   862         FORD   Escape        2011       Jeep   \n",
       "4  45809263  11726   446        HONDA      FIT        2014  Hatchback   \n",
       "\n",
       "  Leather interior Fuel type Engine volume    Mileage  Cylinders  \\\n",
       "0              Yes    Hybrid           3.5  186005 km          6   \n",
       "1               No    Petrol             3  192000 km          6   \n",
       "2               No    Petrol           1.3  200000 km          4   \n",
       "3              Yes    Hybrid           2.5  168966 km          4   \n",
       "4              Yes    Petrol           1.3   91901 km          4   \n",
       "\n",
       "  Gear box type Drive wheels  Doors             Wheel   Color  Airbags  \n",
       "0     Automatic          4x4  4-May        Left wheel  Silver       12  \n",
       "1     Tiptronic          4x4  4-May        Left wheel   Black        8  \n",
       "2      Variator        Front  4-May  Right-hand drive   Black        2  \n",
       "3     Automatic          4x4  4-May        Left wheel   White        0  \n",
       "4     Automatic        Front  4-May        Left wheel  Silver        4  "
      ]
     },
     "execution_count": 3,
     "metadata": {},
     "output_type": "execute_result"
    }
   ],
   "source": [
    "data.head()"
   ]
  },
  {
   "cell_type": "code",
   "execution_count": 4,
   "id": "abc7c802",
   "metadata": {},
   "outputs": [
    {
     "data": {
      "text/plain": [
       "(19237, 18)"
      ]
     },
     "execution_count": 4,
     "metadata": {},
     "output_type": "execute_result"
    }
   ],
   "source": [
    "data.shape #dimension of data set"
   ]
  },
  {
   "cell_type": "code",
   "execution_count": 5,
   "id": "b33d61f7",
   "metadata": {},
   "outputs": [],
   "source": [
    "from sklearn.model_selection import train_test_split"
   ]
  },
  {
   "cell_type": "code",
   "execution_count": 6,
   "id": "036652d6",
   "metadata": {},
   "outputs": [],
   "source": [
    "x=data.drop('ID',axis=1).values\n",
    "y=data['ID'].values"
   ]
  },
  {
   "cell_type": "code",
   "execution_count": 7,
   "id": "2953a2bb",
   "metadata": {},
   "outputs": [],
   "source": [
    "x_train,x_test,y_train,y_test=train_test_split(x,y,test_size=0.4,random_state=42)"
   ]
  },
  {
   "cell_type": "code",
   "execution_count": 8,
   "id": "6dd02978",
   "metadata": {},
   "outputs": [
    {
     "data": {
      "text/plain": [
       "((11542, 17), (7695, 17), (11542,), (7695,))"
      ]
     },
     "execution_count": 8,
     "metadata": {},
     "output_type": "execute_result"
    }
   ],
   "source": [
    "x_train.shape,x_test.shape,y_train.shape,y_test.shape,"
   ]
  },
  {
   "cell_type": "code",
   "execution_count": 9,
   "id": "a4a484e1",
   "metadata": {},
   "outputs": [
    {
     "data": {
      "text/plain": [
       "array([45753963, 45786053, 45757478, ..., 45731517, 45804188, 45803874],\n",
       "      dtype=int64)"
      ]
     },
     "execution_count": 9,
     "metadata": {},
     "output_type": "execute_result"
    }
   ],
   "source": [
    "y_test"
   ]
  },
  {
   "cell_type": "markdown",
   "id": "3bdb9f55",
   "metadata": {},
   "source": [
    "#    Training ANd Testing Accuracy\n"
   ]
  },
  {
   "cell_type": "code",
   "execution_count": 10,
   "id": "4e6317ff",
   "metadata": {},
   "outputs": [],
   "source": [
    "model_score_1 = pd.DataFrame(columns = (\"index\",\"Model\",'Training Accuracy',\"Testing Accuracy\"))"
   ]
  },
  {
   "cell_type": "code",
   "execution_count": 11,
   "id": "57c7c50a",
   "metadata": {},
   "outputs": [
    {
     "name": "stdout",
     "output_type": "stream",
     "text": [
      "<class 'pandas.core.frame.DataFrame'>\n",
      "RangeIndex: 19237 entries, 0 to 19236\n",
      "Data columns (total 18 columns):\n",
      " #   Column            Non-Null Count  Dtype \n",
      "---  ------            --------------  ----- \n",
      " 0   ID                19237 non-null  int64 \n",
      " 1   Price             19237 non-null  int64 \n",
      " 2   Levy              19237 non-null  object\n",
      " 3   Manufacturer      19237 non-null  object\n",
      " 4   Model             19237 non-null  object\n",
      " 5   Prod. year        19237 non-null  int64 \n",
      " 6   Category          19237 non-null  object\n",
      " 7   Leather interior  19237 non-null  object\n",
      " 8   Fuel type         19237 non-null  object\n",
      " 9   Engine volume     19237 non-null  object\n",
      " 10  Mileage           19237 non-null  object\n",
      " 11  Cylinders         19237 non-null  int64 \n",
      " 12  Gear box type     19237 non-null  object\n",
      " 13  Drive wheels      19237 non-null  object\n",
      " 14  Doors             19237 non-null  object\n",
      " 15  Wheel             19237 non-null  object\n",
      " 16  Color             19237 non-null  object\n",
      " 17  Airbags           19237 non-null  int64 \n",
      "dtypes: int64(5), object(13)\n",
      "memory usage: 2.6+ MB\n"
     ]
    }
   ],
   "source": [
    "data.info()"
   ]
  },
  {
   "cell_type": "code",
   "execution_count": 12,
   "id": "0d8b2c94",
   "metadata": {},
   "outputs": [],
   "source": [
    "# x=data.drop('Airbags','Manufacturer','Model','Category','Leather interior','Fuel Type','Engine volume','Mileage','Gear box type','Drive wheels','Doors','Wheel','Color',axis=13)\n",
    "# y=data['Airbags''Manufacturer','Model','Category','Leather interior','Fuel Type','Engine volume','Mileage','Gear box type','Drive wheels','Doors','Wheel','Color'].values"
   ]
  },
  {
   "cell_type": "code",
   "execution_count": 13,
   "id": "674836d3",
   "metadata": {},
   "outputs": [],
   "source": [
    "x=data.drop('Price',axis=1)\n",
    "y=data['Price'].values"
   ]
  },
  {
   "cell_type": "code",
   "execution_count": 14,
   "id": "10d6ea03",
   "metadata": {},
   "outputs": [],
   "source": [
    "from sklearn.preprocessing import LabelEncoder\n",
    "encoder = LabelEncoder()\n",
    "x_encoded = x.apply(encoder.fit_transform)"
   ]
  },
  {
   "cell_type": "code",
   "execution_count": 15,
   "id": "72843b59",
   "metadata": {},
   "outputs": [],
   "source": [
    "x_train,x_test,y_train,y_test=train_test_split(x_encoded,y,test_size=0.4,random_state=42)"
   ]
  },
  {
   "cell_type": "code",
   "execution_count": 16,
   "id": "0de33027",
   "metadata": {},
   "outputs": [
    {
     "name": "stderr",
     "output_type": "stream",
     "text": [
      "C:\\Users\\KIIT\\anaconda3\\lib\\site-packages\\sklearn\\neighbors\\_classification.py:228: FutureWarning: Unlike other reduction functions (e.g. `skew`, `kurtosis`), the default behavior of `mode` typically preserves the axis it acts along. In SciPy 1.11.0, this behavior will change: the default value of `keepdims` will become False, the `axis` over which the statistic is taken will be eliminated, and the value None will no longer be accepted. Set `keepdims` to True or False to avoid this warning.\n",
      "  mode, _ = stats.mode(_y[neigh_ind, k], axis=1)\n",
      "C:\\Users\\KIIT\\anaconda3\\lib\\site-packages\\sklearn\\neighbors\\_classification.py:228: FutureWarning: Unlike other reduction functions (e.g. `skew`, `kurtosis`), the default behavior of `mode` typically preserves the axis it acts along. In SciPy 1.11.0, this behavior will change: the default value of `keepdims` will become False, the `axis` over which the statistic is taken will be eliminated, and the value None will no longer be accepted. Set `keepdims` to True or False to avoid this warning.\n",
      "  mode, _ = stats.mode(_y[neigh_ind, k], axis=1)\n"
     ]
    },
    {
     "name": "stdout",
     "output_type": "stream",
     "text": [
      "Training Accuracy  0.2065499913359903\n",
      "Testing Accuracy  0.0682261208576998\n"
     ]
    }
   ],
   "source": [
    "#KNN\n",
    "from sklearn.neighbors import KNeighborsClassifier\n",
    "from sklearn.metrics import accuracy_score \n",
    "\n",
    "knn=KNeighborsClassifier(n_neighbors = 10)\n",
    "knn.fit(x_train, y_train)\n",
    "\n",
    "y_train_pred_knn=knn.predict(x_train)#predicting train data\n",
    "y_test_pred_knn=knn.predict(x_test)\n",
    "\n",
    "print(\"Training Accuracy \",accuracy_score(y_train,y_train_pred_knn))\n",
    "print(\"Testing Accuracy \",accuracy_score(y_test,y_test_pred_knn))"
   ]
  },
  {
   "cell_type": "code",
   "execution_count": 17,
   "id": "b81191fd",
   "metadata": {},
   "outputs": [
    {
     "name": "stderr",
     "output_type": "stream",
     "text": [
      "C:\\Users\\KIIT\\AppData\\Local\\Temp\\ipykernel_6336\\2279507788.py:1: FutureWarning: The frame.append method is deprecated and will be removed from pandas in a future version. Use pandas.concat instead.\n",
      "  model_score_1 = model_score_1.append(pd.DataFrame({'index':[1],'Model':['KNN'],'Training Accuracy':[accuracy_score(y_train, y_train_pred_knn)],'Testing Accuracy':[accuracy_score(y_test, y_test_pred_knn)]}))\n"
     ]
    },
    {
     "data": {
      "text/html": [
       "<div>\n",
       "<style scoped>\n",
       "    .dataframe tbody tr th:only-of-type {\n",
       "        vertical-align: middle;\n",
       "    }\n",
       "\n",
       "    .dataframe tbody tr th {\n",
       "        vertical-align: top;\n",
       "    }\n",
       "\n",
       "    .dataframe thead th {\n",
       "        text-align: right;\n",
       "    }\n",
       "</style>\n",
       "<table border=\"1\" class=\"dataframe\">\n",
       "  <thead>\n",
       "    <tr style=\"text-align: right;\">\n",
       "      <th></th>\n",
       "      <th>index</th>\n",
       "      <th>Model</th>\n",
       "      <th>Training Accuracy</th>\n",
       "      <th>Testing Accuracy</th>\n",
       "    </tr>\n",
       "  </thead>\n",
       "  <tbody>\n",
       "    <tr>\n",
       "      <th>0</th>\n",
       "      <td>1</td>\n",
       "      <td>KNN</td>\n",
       "      <td>0.20655</td>\n",
       "      <td>0.068226</td>\n",
       "    </tr>\n",
       "  </tbody>\n",
       "</table>\n",
       "</div>"
      ],
      "text/plain": [
       "  index Model  Training Accuracy  Testing Accuracy\n",
       "0     1   KNN            0.20655          0.068226"
      ]
     },
     "execution_count": 17,
     "metadata": {},
     "output_type": "execute_result"
    }
   ],
   "source": [
    "model_score_1 = model_score_1.append(pd.DataFrame({'index':[1],'Model':['KNN'],'Training Accuracy':[accuracy_score(y_train, y_train_pred_knn)],'Testing Accuracy':[accuracy_score(y_test, y_test_pred_knn)]}))\n",
    "model_score_1"
   ]
  },
  {
   "cell_type": "code",
   "execution_count": 18,
   "id": "42fa9e97",
   "metadata": {},
   "outputs": [
    {
     "name": "stdout",
     "output_type": "stream",
     "text": [
      "Training Accuracy  0.999913359902963\n",
      "Testing Accuracy  0.23118908382066278\n"
     ]
    }
   ],
   "source": [
    "#Random forest\n",
    "from sklearn.ensemble import RandomForestClassifier\n",
    "from sklearn.metrics import accuracy_score \n",
    "\n",
    "rf=RandomForestClassifier()\n",
    "rf.fit(x_train,y_train)\n",
    "\n",
    "y_train_pred_rf=rf.predict(x_train)\n",
    "y_test_pred_rf=rf.predict(x_test)\n",
    "\n",
    "print(\"Training Accuracy \",accuracy_score(y_train, y_train_pred_rf))#Accuracy of train data is 100%\n",
    "print(\"Testing Accuracy \",accuracy_score(y_test, y_test_pred_rf))"
   ]
  },
  {
   "cell_type": "code",
   "execution_count": 19,
   "id": "daba100f",
   "metadata": {},
   "outputs": [
    {
     "name": "stderr",
     "output_type": "stream",
     "text": [
      "C:\\Users\\KIIT\\AppData\\Local\\Temp\\ipykernel_6336\\3499800609.py:1: FutureWarning: The frame.append method is deprecated and will be removed from pandas in a future version. Use pandas.concat instead.\n",
      "  model_score_1 = model_score_1.append(pd.DataFrame({'index':[2],'Model':['Random Forest'],'Training Accuracy':[accuracy_score(y_train, y_train_pred_rf)],'Testing Accuracy':[accuracy_score(y_test, y_test_pred_rf)]}))\n"
     ]
    },
    {
     "data": {
      "text/html": [
       "<div>\n",
       "<style scoped>\n",
       "    .dataframe tbody tr th:only-of-type {\n",
       "        vertical-align: middle;\n",
       "    }\n",
       "\n",
       "    .dataframe tbody tr th {\n",
       "        vertical-align: top;\n",
       "    }\n",
       "\n",
       "    .dataframe thead th {\n",
       "        text-align: right;\n",
       "    }\n",
       "</style>\n",
       "<table border=\"1\" class=\"dataframe\">\n",
       "  <thead>\n",
       "    <tr style=\"text-align: right;\">\n",
       "      <th></th>\n",
       "      <th>index</th>\n",
       "      <th>Model</th>\n",
       "      <th>Training Accuracy</th>\n",
       "      <th>Testing Accuracy</th>\n",
       "    </tr>\n",
       "  </thead>\n",
       "  <tbody>\n",
       "    <tr>\n",
       "      <th>0</th>\n",
       "      <td>1</td>\n",
       "      <td>KNN</td>\n",
       "      <td>0.206550</td>\n",
       "      <td>0.068226</td>\n",
       "    </tr>\n",
       "    <tr>\n",
       "      <th>0</th>\n",
       "      <td>2</td>\n",
       "      <td>Random Forest</td>\n",
       "      <td>0.999913</td>\n",
       "      <td>0.231189</td>\n",
       "    </tr>\n",
       "  </tbody>\n",
       "</table>\n",
       "</div>"
      ],
      "text/plain": [
       "  index          Model  Training Accuracy  Testing Accuracy\n",
       "0     1            KNN           0.206550          0.068226\n",
       "0     2  Random Forest           0.999913          0.231189"
      ]
     },
     "execution_count": 19,
     "metadata": {},
     "output_type": "execute_result"
    }
   ],
   "source": [
    "model_score_1 = model_score_1.append(pd.DataFrame({'index':[2],'Model':['Random Forest'],'Training Accuracy':[accuracy_score(y_train, y_train_pred_rf)],'Testing Accuracy':[accuracy_score(y_test, y_test_pred_rf)]}))\n",
    "model_score_1"
   ]
  },
  {
   "cell_type": "code",
   "execution_count": 20,
   "id": "048fa335",
   "metadata": {},
   "outputs": [
    {
     "name": "stdout",
     "output_type": "stream",
     "text": [
      "Training Accuracy  1.0\n",
      "Testing Accuracy  0.2119558154645874\n"
     ]
    }
   ],
   "source": [
    "#Decision Tree\n",
    "\n",
    "from sklearn.tree import DecisionTreeClassifier\n",
    "from sklearn.metrics import accuracy_score \n",
    "\n",
    "dt=DecisionTreeClassifier()\n",
    "dt.fit(x_train,y_train)\n",
    "\n",
    "y_train_pred_dt=dt.predict(x_train)\n",
    "y_test_pred_dt=dt.predict(x_test)\n",
    "\n",
    "print(\"Training Accuracy \",accuracy_score(y_train,y_train_pred_dt))\n",
    "print(\"Testing Accuracy \",accuracy_score(y_test,y_test_pred_dt))"
   ]
  },
  {
   "cell_type": "code",
   "execution_count": 21,
   "id": "587a40eb",
   "metadata": {},
   "outputs": [
    {
     "name": "stderr",
     "output_type": "stream",
     "text": [
      "C:\\Users\\KIIT\\AppData\\Local\\Temp\\ipykernel_6336\\925494198.py:1: FutureWarning: The frame.append method is deprecated and will be removed from pandas in a future version. Use pandas.concat instead.\n",
      "  model_score_1 = model_score_1.append(pd.DataFrame({'index':[3],'Model':['Decision Tree'],'Training Accuracy':[accuracy_score(y_train, y_train_pred_dt)],'Testing Accuracy':[accuracy_score(y_test, y_test_pred_dt)]}))\n"
     ]
    },
    {
     "data": {
      "text/html": [
       "<div>\n",
       "<style scoped>\n",
       "    .dataframe tbody tr th:only-of-type {\n",
       "        vertical-align: middle;\n",
       "    }\n",
       "\n",
       "    .dataframe tbody tr th {\n",
       "        vertical-align: top;\n",
       "    }\n",
       "\n",
       "    .dataframe thead th {\n",
       "        text-align: right;\n",
       "    }\n",
       "</style>\n",
       "<table border=\"1\" class=\"dataframe\">\n",
       "  <thead>\n",
       "    <tr style=\"text-align: right;\">\n",
       "      <th></th>\n",
       "      <th>index</th>\n",
       "      <th>Model</th>\n",
       "      <th>Training Accuracy</th>\n",
       "      <th>Testing Accuracy</th>\n",
       "    </tr>\n",
       "  </thead>\n",
       "  <tbody>\n",
       "    <tr>\n",
       "      <th>0</th>\n",
       "      <td>1</td>\n",
       "      <td>KNN</td>\n",
       "      <td>0.206550</td>\n",
       "      <td>0.068226</td>\n",
       "    </tr>\n",
       "    <tr>\n",
       "      <th>0</th>\n",
       "      <td>2</td>\n",
       "      <td>Random Forest</td>\n",
       "      <td>0.999913</td>\n",
       "      <td>0.231189</td>\n",
       "    </tr>\n",
       "    <tr>\n",
       "      <th>0</th>\n",
       "      <td>3</td>\n",
       "      <td>Decision Tree</td>\n",
       "      <td>1.000000</td>\n",
       "      <td>0.211956</td>\n",
       "    </tr>\n",
       "  </tbody>\n",
       "</table>\n",
       "</div>"
      ],
      "text/plain": [
       "  index          Model  Training Accuracy  Testing Accuracy\n",
       "0     1            KNN           0.206550          0.068226\n",
       "0     2  Random Forest           0.999913          0.231189\n",
       "0     3  Decision Tree           1.000000          0.211956"
      ]
     },
     "execution_count": 21,
     "metadata": {},
     "output_type": "execute_result"
    }
   ],
   "source": [
    "model_score_1 = model_score_1.append(pd.DataFrame({'index':[3],'Model':['Decision Tree'],'Training Accuracy':[accuracy_score(y_train, y_train_pred_dt)],'Testing Accuracy':[accuracy_score(y_test, y_test_pred_dt)]}))\n",
    "model_score_1"
   ]
  },
  {
   "cell_type": "code",
   "execution_count": 22,
   "id": "dca263c4",
   "metadata": {},
   "outputs": [
    {
     "name": "stderr",
     "output_type": "stream",
     "text": [
      "C:\\Users\\KIIT\\anaconda3\\lib\\site-packages\\sklearn\\linear_model\\_logistic.py:814: ConvergenceWarning: lbfgs failed to converge (status=1):\n",
      "STOP: TOTAL NO. of ITERATIONS REACHED LIMIT.\n",
      "\n",
      "Increase the number of iterations (max_iter) or scale the data as shown in:\n",
      "    https://scikit-learn.org/stable/modules/preprocessing.html\n",
      "Please also refer to the documentation for alternative solver options:\n",
      "    https://scikit-learn.org/stable/modules/linear_model.html#logistic-regression\n",
      "  n_iter_i = _check_optimize_result(\n"
     ]
    },
    {
     "name": "stdout",
     "output_type": "stream",
     "text": [
      "Training Accuracy  0.024172587073297523\n",
      "Testing Accuracy  0.019883040935672516\n"
     ]
    }
   ],
   "source": [
    "#Logistic Regression\n",
    "from sklearn.linear_model import LogisticRegression\n",
    "from sklearn.metrics import accuracy_score\n",
    "\n",
    "lr=LogisticRegression()\n",
    "lr.fit(x_train,y_train)\n",
    "\n",
    "y_train_pred_lr=lr.predict(x_train)\n",
    "y_test_pred_lr=lr.predict(x_test)\n",
    "\n",
    "\n",
    "print(\"Training Accuracy \",accuracy_score(y_train,y_train_pred_lr))\n",
    "print(\"Testing Accuracy \",accuracy_score(y_test,y_test_pred_lr))"
   ]
  },
  {
   "cell_type": "code",
   "execution_count": 23,
   "id": "1353ab4a",
   "metadata": {},
   "outputs": [
    {
     "name": "stderr",
     "output_type": "stream",
     "text": [
      "C:\\Users\\KIIT\\AppData\\Local\\Temp\\ipykernel_6336\\1695937779.py:1: FutureWarning: The frame.append method is deprecated and will be removed from pandas in a future version. Use pandas.concat instead.\n",
      "  model_score_1 = model_score_1.append(pd.DataFrame({'index':[4],'Model':['Logistic Regression'],'Training Accuracy':[accuracy_score(y_train, y_train_pred_lr)],'Testing Accuracy':[accuracy_score(y_test, y_test_pred_lr)]}))\n"
     ]
    },
    {
     "data": {
      "text/html": [
       "<div>\n",
       "<style scoped>\n",
       "    .dataframe tbody tr th:only-of-type {\n",
       "        vertical-align: middle;\n",
       "    }\n",
       "\n",
       "    .dataframe tbody tr th {\n",
       "        vertical-align: top;\n",
       "    }\n",
       "\n",
       "    .dataframe thead th {\n",
       "        text-align: right;\n",
       "    }\n",
       "</style>\n",
       "<table border=\"1\" class=\"dataframe\">\n",
       "  <thead>\n",
       "    <tr style=\"text-align: right;\">\n",
       "      <th></th>\n",
       "      <th>index</th>\n",
       "      <th>Model</th>\n",
       "      <th>Training Accuracy</th>\n",
       "      <th>Testing Accuracy</th>\n",
       "    </tr>\n",
       "  </thead>\n",
       "  <tbody>\n",
       "    <tr>\n",
       "      <th>0</th>\n",
       "      <td>1</td>\n",
       "      <td>KNN</td>\n",
       "      <td>0.206550</td>\n",
       "      <td>0.068226</td>\n",
       "    </tr>\n",
       "    <tr>\n",
       "      <th>0</th>\n",
       "      <td>2</td>\n",
       "      <td>Random Forest</td>\n",
       "      <td>0.999913</td>\n",
       "      <td>0.231189</td>\n",
       "    </tr>\n",
       "    <tr>\n",
       "      <th>0</th>\n",
       "      <td>3</td>\n",
       "      <td>Decision Tree</td>\n",
       "      <td>1.000000</td>\n",
       "      <td>0.211956</td>\n",
       "    </tr>\n",
       "    <tr>\n",
       "      <th>0</th>\n",
       "      <td>4</td>\n",
       "      <td>Logistic Regression</td>\n",
       "      <td>0.024173</td>\n",
       "      <td>0.019883</td>\n",
       "    </tr>\n",
       "  </tbody>\n",
       "</table>\n",
       "</div>"
      ],
      "text/plain": [
       "  index                Model  Training Accuracy  Testing Accuracy\n",
       "0     1                  KNN           0.206550          0.068226\n",
       "0     2        Random Forest           0.999913          0.231189\n",
       "0     3        Decision Tree           1.000000          0.211956\n",
       "0     4  Logistic Regression           0.024173          0.019883"
      ]
     },
     "execution_count": 23,
     "metadata": {},
     "output_type": "execute_result"
    }
   ],
   "source": [
    "model_score_1 = model_score_1.append(pd.DataFrame({'index':[4],'Model':['Logistic Regression'],'Training Accuracy':[accuracy_score(y_train, y_train_pred_lr)],'Testing Accuracy':[accuracy_score(y_test, y_test_pred_lr)]}))\n",
    "model_score_1"
   ]
  },
  {
   "cell_type": "code",
   "execution_count": null,
   "id": "46efd6d2",
   "metadata": {},
   "outputs": [],
   "source": [
    "#Suport vector machibe\n",
    "from sklearn.svm import SVC\n",
    "from sklearn.metrics import accuracy_score \n",
    "\n",
    "# svm=SVC()\n",
    "sv=SVC(kernel='linear',probability = True)\n",
    "\n",
    "sv.fit(x_train,y_train)\n",
    "\n",
    "y_train_pred_svc=sv.predict(x_train)\n",
    "y_test_pred_svc=sv.predict(x_test)\n",
    "\n",
    "print(\"Training accuracy \",accuracy_score(y_train,y_train_pred_svc))\n",
    "print(\"Testing Accuracy \",accuracy_score(y_test,y_test_pred_svc))\n"
   ]
  },
  {
   "cell_type": "code",
   "execution_count": null,
   "id": "5e8a9387",
   "metadata": {},
   "outputs": [],
   "source": [
    "model_score_1 = model_score_1.append(pd.DataFrame({'index':[5],'Model':['SVM'],'Training Accuracy':[accuracy_score(y_train, y_train_pred_svc)],'Testing Accuracy':[accuracy_score(y_test, y_test_pred_svc)]}))\n",
    "model_score_1"
   ]
  },
  {
   "cell_type": "markdown",
   "id": "f5d9e634",
   "metadata": {},
   "source": [
    "# F1_Score\n"
   ]
  },
  {
   "cell_type": "code",
   "execution_count": 26,
   "id": "093349da",
   "metadata": {},
   "outputs": [],
   "source": [
    "import time\n",
    "from sklearn.metrics import f1_score\n",
    "\n",
    "classifiers = [\n",
    "    KNeighborsClassifier(),\n",
    "    RandomForestClassifier(),\n",
    "    DecisionTreeClassifier()\n",
    "#     LogisticRegression()\n",
    "#     LogisticRegression(max_iter=10000),    \n",
    "    \n",
    "#     SVC(kernel=\"rbf\")  \n",
    "]"
   ]
  },
  {
   "cell_type": "code",
   "execution_count": 27,
   "id": "435a5414",
   "metadata": {},
   "outputs": [],
   "source": [
    "def f_score(X_train, X_test, y_train, y_test):\n",
    "    for clf in classifiers:\n",
    "        s = time.time()\n",
    "        clf.fit(x_train,y_train)\n",
    "        y_pred = clf.predict(x_test)\n",
    "        f = f1_score(y_true=y_test,y_pred=y_pred,average=\"macro\")\n",
    "        e = time.time()\n",
    "        print(f\"Score: {round(f,3)} \\t Time(in secs): {round(e-s,3)} \\t Classifier: {clf.__class__.__name__}\")"
   ]
  },
  {
   "cell_type": "code",
   "execution_count": 28,
   "id": "b24fb049",
   "metadata": {},
   "outputs": [
    {
     "name": "stderr",
     "output_type": "stream",
     "text": [
      "C:\\Users\\KIIT\\anaconda3\\lib\\site-packages\\sklearn\\neighbors\\_classification.py:228: FutureWarning: Unlike other reduction functions (e.g. `skew`, `kurtosis`), the default behavior of `mode` typically preserves the axis it acts along. In SciPy 1.11.0, this behavior will change: the default value of `keepdims` will become False, the `axis` over which the statistic is taken will be eliminated, and the value None will no longer be accepted. Set `keepdims` to True or False to avoid this warning.\n",
      "  mode, _ = stats.mode(_y[neigh_ind, k], axis=1)\n"
     ]
    },
    {
     "name": "stdout",
     "output_type": "stream",
     "text": [
      "Score: 0.015 \t Time(in secs): 6.118 \t Classifier: KNeighborsClassifier\n",
      "Score: 0.078 \t Time(in secs): 169.076 \t Classifier: RandomForestClassifier\n",
      "Score: 0.069 \t Time(in secs): 7.315 \t Classifier: DecisionTreeClassifier\n"
     ]
    }
   ],
   "source": [
    "f_score(x_train, x_test, y_train, y_test)"
   ]
  },
  {
   "cell_type": "markdown",
   "id": "bf9f42ae",
   "metadata": {},
   "source": [
    "# Recall & presicion\n"
   ]
  },
  {
   "cell_type": "code",
   "execution_count": 54,
   "id": "1340b674",
   "metadata": {},
   "outputs": [],
   "source": [
    "from sklearn.metrics import precision_recall_curve\n",
    "from sklearn.metrics import precision_score\n",
    "from sklearn.metrics import recall_score"
   ]
  },
  {
   "cell_type": "code",
   "execution_count": 55,
   "id": "5991d233",
   "metadata": {},
   "outputs": [],
   "source": [
    "model_score_2 = pd.DataFrame(columns = (\"index\",\"Model\",'Recall','Precision'))"
   ]
  },
  {
   "cell_type": "code",
   "execution_count": 56,
   "id": "fc05eef9",
   "metadata": {},
   "outputs": [
    {
     "name": "stderr",
     "output_type": "stream",
     "text": [
      "C:\\Users\\KIIT\\anaconda3\\lib\\site-packages\\sklearn\\neighbors\\_classification.py:228: FutureWarning: Unlike other reduction functions (e.g. `skew`, `kurtosis`), the default behavior of `mode` typically preserves the axis it acts along. In SciPy 1.11.0, this behavior will change: the default value of `keepdims` will become False, the `axis` over which the statistic is taken will be eliminated, and the value None will no longer be accepted. Set `keepdims` to True or False to avoid this warning.\n",
      "  mode, _ = stats.mode(_y[neigh_ind, k], axis=1)\n"
     ]
    }
   ],
   "source": [
    "#KNN\n",
    "pred_knn = knn.predict(x_test)"
   ]
  },
  {
   "cell_type": "code",
   "execution_count": null,
   "id": "d5fd7bfe",
   "metadata": {},
   "outputs": [],
   "source": []
  },
  {
   "cell_type": "code",
   "execution_count": 57,
   "id": "47f007b8",
   "metadata": {},
   "outputs": [
    {
     "name": "stdout",
     "output_type": "stream",
     "text": [
      "Precision:  0.0682261208576998\n",
      "Recall:  0.0682261208576998\n"
     ]
    }
   ],
   "source": [
    "precision = precision_score(y_test, pred_knn, average='micro')\n",
    "recall = recall_score(y_test, pred_knn,average='micro')\n",
    " \n",
    "print('Precision: ',precision)\n",
    "print('Recall: ',recall)"
   ]
  },
  {
   "cell_type": "code",
   "execution_count": 58,
   "id": "ca29a09e",
   "metadata": {},
   "outputs": [
    {
     "name": "stderr",
     "output_type": "stream",
     "text": [
      "C:\\Users\\KIIT\\AppData\\Local\\Temp\\ipykernel_6336\\1476776741.py:1: FutureWarning: The frame.append method is deprecated and will be removed from pandas in a future version. Use pandas.concat instead.\n",
      "  model_score_2 = model_score_2.append(pd.DataFrame({'index':[1],'Model':['KNN'],'Recall':[recall],'Precision':[precision]}))\n"
     ]
    },
    {
     "data": {
      "text/html": [
       "<div>\n",
       "<style scoped>\n",
       "    .dataframe tbody tr th:only-of-type {\n",
       "        vertical-align: middle;\n",
       "    }\n",
       "\n",
       "    .dataframe tbody tr th {\n",
       "        vertical-align: top;\n",
       "    }\n",
       "\n",
       "    .dataframe thead th {\n",
       "        text-align: right;\n",
       "    }\n",
       "</style>\n",
       "<table border=\"1\" class=\"dataframe\">\n",
       "  <thead>\n",
       "    <tr style=\"text-align: right;\">\n",
       "      <th></th>\n",
       "      <th>index</th>\n",
       "      <th>Model</th>\n",
       "      <th>Recall</th>\n",
       "      <th>Precision</th>\n",
       "    </tr>\n",
       "  </thead>\n",
       "  <tbody>\n",
       "    <tr>\n",
       "      <th>0</th>\n",
       "      <td>1</td>\n",
       "      <td>KNN</td>\n",
       "      <td>0.068226</td>\n",
       "      <td>0.068226</td>\n",
       "    </tr>\n",
       "  </tbody>\n",
       "</table>\n",
       "</div>"
      ],
      "text/plain": [
       "  index Model    Recall  Precision\n",
       "0     1   KNN  0.068226   0.068226"
      ]
     },
     "execution_count": 58,
     "metadata": {},
     "output_type": "execute_result"
    }
   ],
   "source": [
    "model_score_2 = model_score_2.append(pd.DataFrame({'index':[1],'Model':['KNN'],'Recall':[recall],'Precision':[precision]}))\n",
    "model_score_2"
   ]
  },
  {
   "cell_type": "code",
   "execution_count": 59,
   "id": "9ba44361",
   "metadata": {},
   "outputs": [],
   "source": [
    "#RF\n",
    "pred_rf = rf.predict(x_test)"
   ]
  },
  {
   "cell_type": "code",
   "execution_count": 60,
   "id": "1b056a21",
   "metadata": {},
   "outputs": [],
   "source": [
    "# model_score_2 = pd.DataFrame(columns = (\"index\",\"Model\",'Recall','Precision'))"
   ]
  },
  {
   "cell_type": "code",
   "execution_count": 61,
   "id": "f288a46f",
   "metadata": {},
   "outputs": [
    {
     "name": "stdout",
     "output_type": "stream",
     "text": [
      "Precision:  0.23118908382066278\n",
      "Recall:  0.23118908382066278\n"
     ]
    }
   ],
   "source": [
    "precision = precision_score(y_test, pred_rf, average='micro')\n",
    "recall = recall_score(y_test, pred_rf,average='micro')\n",
    " \n",
    "print('Precision: ',precision)\n",
    "print('Recall: ',recall)"
   ]
  },
  {
   "cell_type": "code",
   "execution_count": 62,
   "id": "6d6e38b6",
   "metadata": {},
   "outputs": [
    {
     "name": "stderr",
     "output_type": "stream",
     "text": [
      "C:\\Users\\KIIT\\AppData\\Local\\Temp\\ipykernel_6336\\2952418082.py:1: FutureWarning: The frame.append method is deprecated and will be removed from pandas in a future version. Use pandas.concat instead.\n",
      "  model_score_2 = model_score_2.append(pd.DataFrame({'index':[2],'Model':['Random Forest'],'Recall':[recall],'Precision':[precision]}))\n"
     ]
    },
    {
     "data": {
      "text/html": [
       "<div>\n",
       "<style scoped>\n",
       "    .dataframe tbody tr th:only-of-type {\n",
       "        vertical-align: middle;\n",
       "    }\n",
       "\n",
       "    .dataframe tbody tr th {\n",
       "        vertical-align: top;\n",
       "    }\n",
       "\n",
       "    .dataframe thead th {\n",
       "        text-align: right;\n",
       "    }\n",
       "</style>\n",
       "<table border=\"1\" class=\"dataframe\">\n",
       "  <thead>\n",
       "    <tr style=\"text-align: right;\">\n",
       "      <th></th>\n",
       "      <th>index</th>\n",
       "      <th>Model</th>\n",
       "      <th>Recall</th>\n",
       "      <th>Precision</th>\n",
       "    </tr>\n",
       "  </thead>\n",
       "  <tbody>\n",
       "    <tr>\n",
       "      <th>0</th>\n",
       "      <td>1</td>\n",
       "      <td>KNN</td>\n",
       "      <td>0.068226</td>\n",
       "      <td>0.068226</td>\n",
       "    </tr>\n",
       "    <tr>\n",
       "      <th>0</th>\n",
       "      <td>2</td>\n",
       "      <td>Random Forest</td>\n",
       "      <td>0.231189</td>\n",
       "      <td>0.231189</td>\n",
       "    </tr>\n",
       "  </tbody>\n",
       "</table>\n",
       "</div>"
      ],
      "text/plain": [
       "  index          Model    Recall  Precision\n",
       "0     1            KNN  0.068226   0.068226\n",
       "0     2  Random Forest  0.231189   0.231189"
      ]
     },
     "execution_count": 62,
     "metadata": {},
     "output_type": "execute_result"
    }
   ],
   "source": [
    "model_score_2 = model_score_2.append(pd.DataFrame({'index':[2],'Model':['Random Forest'],'Recall':[recall],'Precision':[precision]}))\n",
    "model_score_2"
   ]
  },
  {
   "cell_type": "code",
   "execution_count": 63,
   "id": "45fc4cfd",
   "metadata": {},
   "outputs": [],
   "source": [
    "#Decision Tree\n",
    "pred_tdt = dt.predict(x_test)"
   ]
  },
  {
   "cell_type": "code",
   "execution_count": 64,
   "id": "f5f22893",
   "metadata": {},
   "outputs": [
    {
     "name": "stdout",
     "output_type": "stream",
     "text": [
      "Precision:  0.2119558154645874\n",
      "Recall:  0.2119558154645874\n"
     ]
    }
   ],
   "source": [
    "precision = precision_score(y_test, pred_tdt, average='micro')\n",
    "recall = recall_score(y_test, pred_tdt,average='micro')\n",
    " \n",
    "print('Precision: ',precision)\n",
    "print('Recall: ',recall)"
   ]
  },
  {
   "cell_type": "code",
   "execution_count": 65,
   "id": "83397426",
   "metadata": {},
   "outputs": [
    {
     "name": "stderr",
     "output_type": "stream",
     "text": [
      "C:\\Users\\KIIT\\AppData\\Local\\Temp\\ipykernel_6336\\1672442546.py:1: FutureWarning: The frame.append method is deprecated and will be removed from pandas in a future version. Use pandas.concat instead.\n",
      "  model_score_2 = model_score_2.append(pd.DataFrame({'index':[3],'Model':['Decision tree'],'Recall':[recall],'Precision':[precision]}))\n"
     ]
    },
    {
     "data": {
      "text/html": [
       "<div>\n",
       "<style scoped>\n",
       "    .dataframe tbody tr th:only-of-type {\n",
       "        vertical-align: middle;\n",
       "    }\n",
       "\n",
       "    .dataframe tbody tr th {\n",
       "        vertical-align: top;\n",
       "    }\n",
       "\n",
       "    .dataframe thead th {\n",
       "        text-align: right;\n",
       "    }\n",
       "</style>\n",
       "<table border=\"1\" class=\"dataframe\">\n",
       "  <thead>\n",
       "    <tr style=\"text-align: right;\">\n",
       "      <th></th>\n",
       "      <th>index</th>\n",
       "      <th>Model</th>\n",
       "      <th>Recall</th>\n",
       "      <th>Precision</th>\n",
       "    </tr>\n",
       "  </thead>\n",
       "  <tbody>\n",
       "    <tr>\n",
       "      <th>0</th>\n",
       "      <td>1</td>\n",
       "      <td>KNN</td>\n",
       "      <td>0.068226</td>\n",
       "      <td>0.068226</td>\n",
       "    </tr>\n",
       "    <tr>\n",
       "      <th>0</th>\n",
       "      <td>2</td>\n",
       "      <td>Random Forest</td>\n",
       "      <td>0.231189</td>\n",
       "      <td>0.231189</td>\n",
       "    </tr>\n",
       "    <tr>\n",
       "      <th>0</th>\n",
       "      <td>3</td>\n",
       "      <td>Decision tree</td>\n",
       "      <td>0.211956</td>\n",
       "      <td>0.211956</td>\n",
       "    </tr>\n",
       "  </tbody>\n",
       "</table>\n",
       "</div>"
      ],
      "text/plain": [
       "  index          Model    Recall  Precision\n",
       "0     1            KNN  0.068226   0.068226\n",
       "0     2  Random Forest  0.231189   0.231189\n",
       "0     3  Decision tree  0.211956   0.211956"
      ]
     },
     "execution_count": 65,
     "metadata": {},
     "output_type": "execute_result"
    }
   ],
   "source": [
    "model_score_2 = model_score_2.append(pd.DataFrame({'index':[3],'Model':['Decision tree'],'Recall':[recall],'Precision':[precision]}))\n",
    "model_score_2"
   ]
  },
  {
   "cell_type": "code",
   "execution_count": 66,
   "id": "22636050",
   "metadata": {},
   "outputs": [],
   "source": [
    "#Logistic Regression\n",
    "pred_lr = lr.predict(x_test)"
   ]
  },
  {
   "cell_type": "code",
   "execution_count": 67,
   "id": "3742575d",
   "metadata": {},
   "outputs": [
    {
     "name": "stdout",
     "output_type": "stream",
     "text": [
      "Precision:  0.019883040935672516\n",
      "Recall:  0.019883040935672516\n"
     ]
    }
   ],
   "source": [
    "precision = precision_score(y_test, pred_lr, average='micro')\n",
    "recall = recall_score(y_test, pred_lr,average='micro')\n",
    " \n",
    "print('Precision: ',precision)\n",
    "print('Recall: ',recall)"
   ]
  },
  {
   "cell_type": "code",
   "execution_count": 69,
   "id": "9f7fc238",
   "metadata": {},
   "outputs": [
    {
     "name": "stderr",
     "output_type": "stream",
     "text": [
      "C:\\Users\\KIIT\\AppData\\Local\\Temp\\ipykernel_6336\\4212851385.py:1: FutureWarning: The frame.append method is deprecated and will be removed from pandas in a future version. Use pandas.concat instead.\n",
      "  model_score_2 = model_score_2.append(pd.DataFrame({'index':[4],'Model':['Logistic Regression'],'Recall':[recall],'Precision':[precision]}))\n"
     ]
    },
    {
     "data": {
      "text/html": [
       "<div>\n",
       "<style scoped>\n",
       "    .dataframe tbody tr th:only-of-type {\n",
       "        vertical-align: middle;\n",
       "    }\n",
       "\n",
       "    .dataframe tbody tr th {\n",
       "        vertical-align: top;\n",
       "    }\n",
       "\n",
       "    .dataframe thead th {\n",
       "        text-align: right;\n",
       "    }\n",
       "</style>\n",
       "<table border=\"1\" class=\"dataframe\">\n",
       "  <thead>\n",
       "    <tr style=\"text-align: right;\">\n",
       "      <th></th>\n",
       "      <th>index</th>\n",
       "      <th>Model</th>\n",
       "      <th>Recall</th>\n",
       "      <th>Precision</th>\n",
       "    </tr>\n",
       "  </thead>\n",
       "  <tbody>\n",
       "    <tr>\n",
       "      <th>0</th>\n",
       "      <td>1</td>\n",
       "      <td>KNN</td>\n",
       "      <td>0.068226</td>\n",
       "      <td>0.068226</td>\n",
       "    </tr>\n",
       "    <tr>\n",
       "      <th>0</th>\n",
       "      <td>2</td>\n",
       "      <td>Random Forest</td>\n",
       "      <td>0.231189</td>\n",
       "      <td>0.231189</td>\n",
       "    </tr>\n",
       "    <tr>\n",
       "      <th>0</th>\n",
       "      <td>3</td>\n",
       "      <td>Decision tree</td>\n",
       "      <td>0.211956</td>\n",
       "      <td>0.211956</td>\n",
       "    </tr>\n",
       "    <tr>\n",
       "      <th>0</th>\n",
       "      <td>3</td>\n",
       "      <td>Logistic Regression</td>\n",
       "      <td>0.019883</td>\n",
       "      <td>0.019883</td>\n",
       "    </tr>\n",
       "    <tr>\n",
       "      <th>0</th>\n",
       "      <td>4</td>\n",
       "      <td>Logistic Regression</td>\n",
       "      <td>0.019883</td>\n",
       "      <td>0.019883</td>\n",
       "    </tr>\n",
       "  </tbody>\n",
       "</table>\n",
       "</div>"
      ],
      "text/plain": [
       "  index                Model    Recall  Precision\n",
       "0     1                  KNN  0.068226   0.068226\n",
       "0     2        Random Forest  0.231189   0.231189\n",
       "0     3        Decision tree  0.211956   0.211956\n",
       "0     3  Logistic Regression  0.019883   0.019883\n",
       "0     4  Logistic Regression  0.019883   0.019883"
      ]
     },
     "execution_count": 69,
     "metadata": {},
     "output_type": "execute_result"
    }
   ],
   "source": [
    "model_score_2 = model_score_2.append(pd.DataFrame({'index':[4],'Model':['Logistic Regression'],'Recall':[recall],'Precision':[precision]}))\n",
    "model_score_2"
   ]
  },
  {
   "cell_type": "code",
   "execution_count": null,
   "id": "8bcf1e7f",
   "metadata": {},
   "outputs": [],
   "source": []
  }
 ],
 "metadata": {
  "kernelspec": {
   "display_name": "Python 3 (ipykernel)",
   "language": "python",
   "name": "python3"
  },
  "language_info": {
   "codemirror_mode": {
    "name": "ipython",
    "version": 3
   },
   "file_extension": ".py",
   "mimetype": "text/x-python",
   "name": "python",
   "nbconvert_exporter": "python",
   "pygments_lexer": "ipython3",
   "version": "3.9.13"
  }
 },
 "nbformat": 4,
 "nbformat_minor": 5
}
